{
 "cells": [
  {
   "cell_type": "markdown",
   "metadata": {},
   "source": [
    "## Wikipedia WordCloud\n",
    "\n",
    "What is WordCloud? <br/>\n",
    "An image composed of words used in a particular text or subject, in which the size of each word indicates its frequency or importance"
   ]
  },
  {
   "cell_type": "code",
   "execution_count": null,
   "metadata": {},
   "outputs": [],
   "source": [
    "%matplotlib inline\n",
    "import matplotlib\n",
    "import matplotlib.pyplot as plt\n",
    "\n",
    "import wikipedia\n",
    "import wordcloud\n",
    "from wordcloud import WordCloud"
   ]
  },
  {
   "cell_type": "code",
   "execution_count": null,
   "metadata": {},
   "outputs": [],
   "source": [
    "rcVal = 180\n",
    "plt.rcParams['image.cmap'] = 'gray'\n",
    "plt.rcParams['savefig.dpi'] = rcVal\n",
    "plt.rcParams['figure.dpi'] = rcVal"
   ]
  },
  {
   "cell_type": "code",
   "execution_count": null,
   "metadata": {},
   "outputs": [],
   "source": [
    "print('Wikipedia Version  : ',wikipedia.__version__)\n",
    "print('WordCloud Version  : ',wordcloud.__version__)\n",
    "print('Matplotlib Version : ',matplotlib.__version__)"
   ]
  },
  {
   "cell_type": "code",
   "execution_count": null,
   "metadata": {},
   "outputs": [],
   "source": [
    "title = \"Machine Learning\"\n",
    "summary = wikipedia.summary(title)\n",
    "print(summary)"
   ]
  },
  {
   "cell_type": "code",
   "execution_count": null,
   "metadata": {},
   "outputs": [],
   "source": [
    "keyword = \"Machine Learning\"\n",
    "search_result = wikipedia.search(keyword)\n",
    "print(search_result)"
   ]
  },
  {
   "cell_type": "code",
   "execution_count": null,
   "metadata": {},
   "outputs": [],
   "source": [
    "search_result2 = wikipedia.search(keyword, results=2)\n",
    "print(search_result2)"
   ]
  },
  {
   "cell_type": "code",
   "execution_count": null,
   "metadata": {},
   "outputs": [],
   "source": [
    "page_title = 'Machine Learning'\n",
    "page = wikipedia.page(page_title)"
   ]
  },
  {
   "cell_type": "code",
   "execution_count": null,
   "metadata": {},
   "outputs": [],
   "source": [
    "print(page.url)"
   ]
  },
  {
   "cell_type": "code",
   "execution_count": null,
   "metadata": {},
   "outputs": [],
   "source": [
    "print(page.content)"
   ]
  },
  {
   "cell_type": "code",
   "execution_count": null,
   "metadata": {},
   "outputs": [],
   "source": [
    "print(page.links[:5])"
   ]
  },
  {
   "cell_type": "code",
   "execution_count": null,
   "metadata": {},
   "outputs": [],
   "source": [
    "wcloud = WordCloud()\n",
    "wcloud.generate(page.content)"
   ]
  },
  {
   "cell_type": "code",
   "execution_count": null,
   "metadata": {},
   "outputs": [],
   "source": [
    "plt.imshow(wcloud, interpolation='bilinear')\n",
    "plt.axis(\"off\")\n",
    "plt.show()"
   ]
  },
  {
   "cell_type": "code",
   "execution_count": null,
   "metadata": {},
   "outputs": [],
   "source": [
    "wcloud2 = WordCloud(width=1600, height=900)\n",
    "wcloud2.generate(page.content)\n",
    "\n",
    "plt.imshow(wcloud2, interpolation='bilinear')\n",
    "plt.axis(\"off\")\n",
    "plt.show()"
   ]
  },
  {
   "cell_type": "code",
   "execution_count": null,
   "metadata": {},
   "outputs": [],
   "source": [
    "wcloud3 = WordCloud(width=1600, height=900, background_color=\"white\")\n",
    "wcloud3.generate(page.content)\n",
    "\n",
    "plt.imshow(wcloud3, interpolation='bilinear')\n",
    "plt.axis(\"off\")\n",
    "plt.show()"
   ]
  },
  {
   "cell_type": "code",
   "execution_count": null,
   "metadata": {},
   "outputs": [],
   "source": [
    "wcloud4 = WordCloud(width=1600, height=900, background_color=\"white\", max_font_size=1000)\n",
    "wcloud4.generate(page.content)\n",
    "\n",
    "plt.imshow(wcloud4, interpolation='bilinear')\n",
    "plt.axis(\"off\")\n",
    "plt.show()"
   ]
  },
  {
   "cell_type": "code",
   "execution_count": null,
   "metadata": {},
   "outputs": [],
   "source": [
    "wcloud5 = WordCloud(width=1600, height=900, background_color=\"white\", max_font_size=1000, font_path='data/ubuntu_condensed.ttf')\n",
    "wcloud5.generate(page.content)\n",
    "\n",
    "plt.imshow(wcloud5, interpolation='bilinear')\n",
    "plt.axis(\"off\")\n",
    "plt.show()"
   ]
  },
  {
   "cell_type": "code",
   "execution_count": null,
   "metadata": {},
   "outputs": [],
   "source": [
    "from skimage import io\n",
    "import numpy as np\n",
    "from wordcloud import ImageColorGenerator\n",
    "\n",
    "coloring = io.imread('data/flower_color.jpg')\n",
    "\n",
    "wcloud6 = WordCloud(background_color=\"white\",\n",
    "                    font_path='data/ubuntu_condensed.ttf', mask=coloring)\n",
    "wcloud6.generate(page.content)\n",
    "\n",
    "image_colors = ImageColorGenerator(coloring)\n",
    "\n",
    "# show\n",
    "plt.imshow(wcloud6, interpolation=\"bilinear\")\n",
    "plt.axis(\"off\")\n",
    "plt.figure()\n",
    "\n",
    "# recolor wordcloud and show\n",
    "# we could also give color_func=image_colors directly in the constructor\n",
    "plt.imshow(wcloud6.recolor(color_func=image_colors), interpolation=\"bilinear\")\n",
    "plt.axis(\"off\")\n",
    "plt.figure()\n",
    "\n",
    "plt.imshow(coloring, cmap=plt.cm.gray, interpolation=\"bilinear\")\n",
    "plt.axis(\"off\")\n",
    "plt.show()"
   ]
  },
  {
   "cell_type": "code",
   "execution_count": null,
   "metadata": {},
   "outputs": [],
   "source": []
  }
 ],
 "metadata": {
  "kernelspec": {
   "display_name": "Python [conda env:dlearn]",
   "language": "python",
   "name": "conda-env-dlearn-py"
  },
  "language_info": {
   "codemirror_mode": {
    "name": "ipython",
    "version": 3
   },
   "file_extension": ".py",
   "mimetype": "text/x-python",
   "name": "python",
   "nbconvert_exporter": "python",
   "pygments_lexer": "ipython3",
   "version": "3.5.4"
  }
 },
 "nbformat": 4,
 "nbformat_minor": 2
}
